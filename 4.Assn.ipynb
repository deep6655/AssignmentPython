{
 "cells": [
  {
   "cell_type": "code",
   "execution_count": 13,
   "id": "20e08b60",
   "metadata": {},
   "outputs": [
    {
     "name": "stdout",
     "output_type": "stream",
     "text": [
      "100\n"
     ]
    }
   ],
   "source": [
    "\"\"\"My own myreduce function\"\"\"\n",
    "def add(a,b):\n",
    "    return a+b\n",
    "\n",
    "list_1=[10,15,25,40,10]\n",
    "a=list_1[0]\n",
    "\n",
    "for i in range(1,len(list_1)):\n",
    "    b=list_1[i]\n",
    "    a=add(a,b)\n",
    "    \n",
    "def myreduce(add,list_1):\n",
    "    return a\n",
    "\n",
    "print(myreduce(add,list_1))"
   ]
  },
  {
   "cell_type": "code",
   "execution_count": 15,
   "id": "8f62f67d",
   "metadata": {},
   "outputs": [
    {
     "name": "stdout",
     "output_type": "stream",
     "text": [
      "[2, 4, 6, 8, 10]\n"
     ]
    }
   ],
   "source": [
    "\"\"\"My own myfilter function\"\"\"\n",
    "list_2=[2,3,4,5,6,7,8,9,10]\n",
    "list_3=[]\n",
    "\n",
    "def is_even(a):\n",
    "    for i in list_2:\n",
    "        if i%2==0:\n",
    "            list_3.append(i)\n",
    "    print(list_3)\n",
    "    \n",
    "def myfilter(is_even,list_2):\n",
    "    return is_even(a)\n",
    "    \n",
    "myfilter(is_even,list_2)"
   ]
  },
  {
   "cell_type": "code",
   "execution_count": 31,
   "id": "a9d02fd4",
   "metadata": {},
   "outputs": [
    {
     "name": "stdout",
     "output_type": "stream",
     "text": [
      "Enter 3 charecter\n",
      "Enter Charecter No 1\n",
      "x\n",
      "Enter Charecter No 2\n",
      "y\n",
      "Enter Charecter No 3\n",
      "z\n"
     ]
    },
    {
     "data": {
      "text/plain": [
       "['x', 'xx', 'xxx', 'xxxx', 'y', 'yy', 'yyy', 'yyyy', 'z', 'zz', 'zzz', 'zzzz']"
      ]
     },
     "execution_count": 31,
     "metadata": {},
     "output_type": "execute_result"
    }
   ],
   "source": [
    "print(\"Enter 3 charecter\")\n",
    "list1 = []\n",
    "list2 = []\n",
    "cnt = 1\n",
    "for i in range(0,3):\n",
    "    print(\"Enter Charecter No\",i+1)\n",
    "    word = input()\n",
    "    list1.append(word)\n",
    "for i in list1:\n",
    "    list2.append(i*cnt)\n",
    "    cnt = cnt+1\n",
    "    list2.append(i*cnt)\n",
    "    cnt = cnt+1\n",
    "    list2.append(i*cnt)\n",
    "    cnt = cnt+1\n",
    "    list2.append(i*cnt)\n",
    "    cnt =1\n",
    "list2"
   ]
  },
  {
   "cell_type": "code",
   "execution_count": 41,
   "id": "70a97dd0",
   "metadata": {},
   "outputs": [
    {
     "name": "stdout",
     "output_type": "stream",
     "text": [
      "Enter 3 charecter\n",
      "Enter Charecter No 1\n",
      "x\n",
      "Enter Charecter No 2\n",
      "y\n",
      "Enter Charecter No 3\n",
      "z\n"
     ]
    },
    {
     "data": {
      "text/plain": [
       "['x', 'y', 'z', 'xx', 'yy', 'zz', 'xxx', 'yyy', 'zzz', 'xxxx', 'yyyy', 'zzzz']"
      ]
     },
     "execution_count": 41,
     "metadata": {},
     "output_type": "execute_result"
    }
   ],
   "source": [
    "print(\"Enter 3 charecter\")\n",
    "list1 = []\n",
    "list2 = []\n",
    "cnt = 1\n",
    "for i in range(0,3):\n",
    "    print(\"Enter Charecter No\",i+1)\n",
    "    word = input()\n",
    "    list1.append(word)\n",
    "\n",
    "[list2.append(i*1) for i in list1]\n",
    "[list2.append(i*2) for i in list1]\n",
    "[list2.append(i*3) for i in list1]\n",
    "[list2.append(i*4) for i in list1]\n",
    "    \n",
    "list2"
   ]
  },
  {
   "cell_type": "code",
   "execution_count": 65,
   "id": "cab613e2",
   "metadata": {},
   "outputs": [
    {
     "name": "stdout",
     "output_type": "stream",
     "text": [
      "1\n",
      "1\n",
      "2\n",
      "1\n",
      "3\n",
      "1\n",
      "1\n",
      "2\n",
      "2\n",
      "2\n",
      "3\n",
      "2\n",
      "1\n",
      "3\n",
      "2\n",
      "3\n",
      "3\n",
      "3\n"
     ]
    }
   ],
   "source": [
    "list1 = [1,2,3]\n",
    "list2 = []\n",
    "list3 = []\n",
    "\n",
    "for i in range(0,len(list1)):\n",
    "    list2.append(list1[i])\n",
    "    list2.append(list1[i-i])\n",
    "for i in range(0,len(list1)):\n",
    "    list2.append(list1[i])\n",
    "    list2.append(list1[i-i+1])\n",
    "for i in range(0,len(list1)):\n",
    "    list2.append(list1[i])\n",
    "    list2.append(list1[i-i+2])\n",
    "for i in list2:\n",
    "    print(i)"
   ]
  },
  {
   "cell_type": "code",
   "execution_count": null,
   "id": "09d108f3",
   "metadata": {},
   "outputs": [],
   "source": []
  }
 ],
 "metadata": {
  "kernelspec": {
   "display_name": "Python 3",
   "language": "python",
   "name": "python3"
  },
  "language_info": {
   "codemirror_mode": {
    "name": "ipython",
    "version": 3
   },
   "file_extension": ".py",
   "mimetype": "text/x-python",
   "name": "python",
   "nbconvert_exporter": "python",
   "pygments_lexer": "ipython3",
   "version": "3.8.8"
  }
 },
 "nbformat": 4,
 "nbformat_minor": 5
}
