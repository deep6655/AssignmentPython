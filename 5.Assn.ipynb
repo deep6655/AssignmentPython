{
 "cells": [
  {
   "cell_type": "code",
   "execution_count": 11,
   "id": "afb98cdd",
   "metadata": {},
   "outputs": [
    {
     "name": "stdout",
     "output_type": "stream",
     "text": [
      "Enter Side 1 Length3\n",
      "Enter Side 2 Length4\n",
      "Enter Side 3 Length5\n",
      "6.0\n"
     ]
    }
   ],
   "source": [
    "\"\"\"Task 1 Area Triangle\"\"\"\n",
    "Side1 = int(input(\"Enter Side 1 Length\"))\n",
    "Side2 = int(input(\"Enter Side 2 Length\"))\n",
    "Side3 = int(input(\"Enter Side 3 Length\"))\n",
    "class Triangle:\n",
    "    def __init__(self,Side1,Side2,Side3):\n",
    "        self.Side1 = Side1\n",
    "        self.Side2 = Side2\n",
    "        self.Side3 = Side3\n",
    "    def reverse(self):\n",
    "        return self.Side1\n",
    "class Area(Triangle):\n",
    "    def calculate_area(self):\n",
    "        s = (self.Side1+self.Side2+self.Side3)/2\n",
    "        return ((s)*(s-self.Side1)*(s-self.Side2)*(s-self.Side3))**0.5 \n",
    "a = Area(Side1,Side2,Side3)\n",
    "print(a.calculate_area())"
   ]
  },
  {
   "cell_type": "code",
   "execution_count": 6,
   "id": "f952cacb",
   "metadata": {},
   "outputs": [
    {
     "name": "stdout",
     "output_type": "stream",
     "text": [
      "Enter the number of words you want to add in the list3\n",
      "Enter Word No 1\n",
      "deep\n",
      "Enter Word No 2\n",
      "ratna\n",
      "Enter Word No 3\n",
      "qw\n",
      "Enter the integer value for checking word length 2\n",
      "Output is\n",
      "deep\n",
      "ratna\n"
     ]
    }
   ],
   "source": [
    "\"\"\"Task 2 filter_long_words()\"\"\"\n",
    "list1 = []\n",
    "list_length = int(input(\"Enter the number of words you want to add in the list\"))\n",
    "\n",
    "for i in range(0,list_length):\n",
    "    print(\"Enter Word No\",i+1)\n",
    "    word = input()\n",
    "    list1.append(word)\n",
    "\n",
    "list1\n",
    "    \n",
    "int_value = int(input(\"Enter the integer value for checking word length \"))\n",
    "class cal1:\n",
    "    def __init__(self,list1,int_value):\n",
    "        self.list1 = list1\n",
    "        self.int_value = int_value\n",
    "    def filter_long_words(self):\n",
    "        print(\"Output is\")\n",
    "        for i in self.list1:\n",
    "            if len(i)> int_value:\n",
    "                print(i)\n",
    "        \n",
    "r = cal1(list1,int_value)\n",
    "r.filter_long_words()"
   ]
  },
  {
   "cell_type": "code",
   "execution_count": 37,
   "id": "3842441c",
   "metadata": {},
   "outputs": [
    {
     "name": "stdout",
     "output_type": "stream",
     "text": [
      "Enter the number of words you want to add in the list3\n",
      "Enter Word No 1\n",
      "deep\n",
      "Enter Word No 2\n",
      "ratna\n",
      "Enter Word No 3\n",
      "halder\n",
      "Output is\n"
     ]
    },
    {
     "data": {
      "text/plain": [
       "[4, 5, 6]"
      ]
     },
     "execution_count": 37,
     "metadata": {},
     "output_type": "execute_result"
    }
   ],
   "source": [
    "\"\"\"Task 3 filter_long_words()\"\"\"\n",
    "list_val = []\n",
    "list_count = []\n",
    "list_length = int(input(\"Enter the number of words you want to add in the list\"))\n",
    "\n",
    "for i in range(0,list_length):\n",
    "    print(\"Enter Word No\",i+1)\n",
    "    word = input()\n",
    "    list_val.append(word)\n",
    "    \n",
    "class cal1:\n",
    "    def __init__(self,list_val):\n",
    "        self.list_val = list_val\n",
    "    def fn_word_count(self):\n",
    "        print(\"Output is\")\n",
    "        for i in self.list_val:\n",
    "            list_count.append(len(i))\n",
    "        return list_count\n",
    "    \n",
    "r = cal1(list_val)\n",
    "r.fn_word_count()        "
   ]
  },
  {
   "cell_type": "code",
   "execution_count": 27,
   "id": "f0f16543",
   "metadata": {},
   "outputs": [
    {
     "name": "stdout",
     "output_type": "stream",
     "text": [
      "Enter a alphabet charecter a\n",
      "True\n"
     ]
    }
   ],
   "source": [
    "\"\"\"Task 4 Vowel Check\"\"\"\n",
    "charecter = (input(\"Enter a alphabet charecter \"))\n",
    "class Rev:\n",
    "    def __init__(self,charecter):\n",
    "        self.charecter = charecter\n",
    "    def vowel_chk(self):\n",
    "        if self.charecter=='a' or self.charecter=='e' or self.charecter=='i' or self.charecter=='o' or self.charecter=='u' or self.charecter=='A' or self.charecter=='E' or self.charecter=='I' or self.charecter=='O' or self.charecter=='U':\n",
    "            return True\n",
    "        else:\n",
    "            return False\n",
    "r = Rev(charecter)\n",
    "print(r.vowel_chk())"
   ]
  },
  {
   "cell_type": "code",
   "execution_count": null,
   "id": "eb04ed5e",
   "metadata": {},
   "outputs": [],
   "source": []
  },
  {
   "cell_type": "code",
   "execution_count": null,
   "id": "26dba816",
   "metadata": {},
   "outputs": [],
   "source": []
  }
 ],
 "metadata": {
  "kernelspec": {
   "display_name": "Python 3",
   "language": "python",
   "name": "python3"
  }
 },
 "nbformat": 4,
 "nbformat_minor": 5
}
