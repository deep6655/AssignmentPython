{
 "cells": [
  {
   "cell_type": "code",
   "execution_count": 4,
   "id": "2ebc46fd",
   "metadata": {},
   "outputs": [
    {
     "name": "stdout",
     "output_type": "stream",
     "text": [
      "5\n",
      "* \n",
      "\n",
      "* * \n",
      "\n",
      "* * * \n",
      "\n",
      "* * * * \n",
      "\n",
      "* * * * * \n",
      "\n",
      "* * * * * * \n",
      "\n",
      "* * * * * \n",
      "\n",
      "* * * * \n",
      "\n",
      "* * * \n",
      "\n",
      "* * \n",
      "\n",
      "* \n",
      "\n"
     ]
    }
   ],
   "source": [
    "\"Pattern Print\"\n",
    "a = int(input())\n",
    "q = a\n",
    "for i in range(1,a+1):\n",
    "    #print(i)\n",
    "    for j in range(1,i+1):\n",
    "        print(\"*\",end=' ')\n",
    "    print('\\n')\n",
    "for i in range(0,q+1):\n",
    "    print(\"*\",end=' ')\n",
    "print('\\n')\n",
    "for i in range(a+1,1,-1):\n",
    "    #print(i)\n",
    "    for j in range(1,i):\n",
    "        print(\"*\",end=' ')\n",
    "    print('\\n')"
   ]
  },
  {
   "cell_type": "code",
   "execution_count": 2,
   "id": "42b6cdd8",
   "metadata": {},
   "outputs": [
    {
     "name": "stdout",
     "output_type": "stream",
     "text": [
      "Enter a Worddeep\n",
      "peed\n"
     ]
    }
   ],
   "source": [
    "\"\"\"Task 2 Reverse Word\"\"\"\n",
    "word = input(\"Enter a Word\")\n",
    "class Rev:\n",
    "    def __init__(self,word):\n",
    "        self.word = word\n",
    "    def reverse(self):\n",
    "        return self.word[::-1]\n",
    "r = Rev(word)\n",
    "print(r.reverse()) "
   ]
  },
  {
   "cell_type": "code",
   "execution_count": null,
   "id": "49d1882f",
   "metadata": {},
   "outputs": [],
   "source": []
  }
 ],
 "metadata": {
  "kernelspec": {
   "display_name": "Python 3",
   "language": "python",
   "name": "python3"
  },
  "language_info": {
   "codemirror_mode": {
    "name": "ipython",
    "version": 3
   },
   "file_extension": ".py",
   "mimetype": "text/x-python",
   "name": "python",
   "nbconvert_exporter": "python",
   "pygments_lexer": "ipython3",
   "version": "3.8.8"
  }
 },
 "nbformat": 4,
 "nbformat_minor": 5
}
